{
 "cells": [
  {
   "cell_type": "code",
   "execution_count": 53,
   "metadata": {},
   "outputs": [
    {
     "name": "stdout",
     "output_type": "stream",
     "text": [
      "Min temperuture =  0\n",
      "Max temperuture =  83\n",
      "Time with hot temperuture [9, 10, 12, 13, 15]\n",
      "Temperatures that are greater than 70ºC: [76, 80, 80, 83, 79]\n",
      "Mean temperature 58.8\n",
      "Updated list: [33, 66, 65, 62, 59, 60, 62, 64, 70, 76, 80, 69, 80, 83, 68, 79, 61, 53, 50, 49, 53, 48, 45, 39]\n",
      "Fahrenheit temperature: [91, 151, 149, 144, 138, 140, 144, 147, 158, 169, 176, 156, 176, 181, 154, 174, 142, 127, 122, 120, 127, 118, 113, 102]\n",
      "Danger: change the cooling system! (code problem #3)\n",
      "Avg temp: 65.08\n",
      "Average ºC: 61.4\n",
      "Average ºF: 142.5\n",
      "Standard deviation ºC: 13.1\n",
      "Standard deviation ºF: 23.6\n"
     ]
    }
   ],
   "source": [
    "import numpy as np\n",
    "\n",
    "temperatures_C = [33,66,65,0,59,60,62,64,70,76,80,69,80,83,68,79,61,53,50,49,53,48,45,39]\n",
    "min_temp = min(temperatures_C)\n",
    "max_temp = max(temperatures_C)\n",
    "hot_temp = []\n",
    "temperatures_F = []\n",
    "time = []\n",
    "print('Min temperuture = ', min_temp)\n",
    "print('Max temperuture = ', max_temp)\n",
    "\n",
    "for i in range(len(temperatures_C)):\n",
    "    if temperatures_C[i] > 70:\n",
    "        hot_temp.append(temperatures_C[i])\n",
    "        time.append(i)\n",
    "print('Time with hot temperuture', time)\n",
    "print('Temperatures that are greater than 70ºC:', hot_temp)\n",
    "\n",
    "mean_temp = round(np.mean(temperatures_C), 1)\n",
    "print('Mean temperature', mean_temp)\n",
    "temperatures_C[3] = int((temperatures_C[4] + temperatures_C[2]) / 2)\n",
    "print('Updated list:', temperatures_C)\n",
    "for i in temperatures_C:\n",
    "    i = round(1.8 * i + 32)\n",
    "    temperatures_F.append(i)\n",
    "print('Fahrenheit temperature:',  temperatures_F)\n",
    "\n",
    "count = 0\n",
    "avg = 0\n",
    "index = 0\n",
    "for i in temperatures_C:\n",
    "    if i >=70:\n",
    "        count += 1\n",
    "    else:\n",
    "        count = 0\n",
    "    if count >=4:\n",
    "        print('Danger: change the cooling system! (code problem #1)')\n",
    "        break\n",
    "    if i > 80:\n",
    "        print('Danger: change the cooling system! (code problem #2)' )\n",
    "        break\n",
    "    avg += i\n",
    "    index += 1\n",
    "    if (avg / index) > 65:\n",
    "        print('Danger: change the cooling system! (code problem #3)')\n",
    "        print('Avg temp:', round(avg / index, 2))\n",
    "        break\n",
    "\n",
    "print('Average ºC:', round(np.mean(temperatures_C),1))\n",
    "print('Average ºF:', round(np.mean(temperatures_F),1)) # Averages ºC and ºF are equal\n",
    "print('Standard deviation ºC:', round(np.std(temperatures_C),1))\n",
    "print('Standard deviation ºF:', round(np.std(temperatures_F),1))"
   ]
  }
 ],
 "metadata": {
  "kernelspec": {
   "display_name": "Python 3",
   "language": "python",
   "name": "python3"
  },
  "language_info": {
   "codemirror_mode": {
    "name": "ipython",
    "version": 3
   },
   "file_extension": ".py",
   "mimetype": "text/x-python",
   "name": "python",
   "nbconvert_exporter": "python",
   "pygments_lexer": "ipython3",
   "version": "3.7.3"
  }
 },
 "nbformat": 4,
 "nbformat_minor": 2
}
