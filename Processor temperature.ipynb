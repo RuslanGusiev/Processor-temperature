{
 "cells": [
  {
   "cell_type": "code",
   "execution_count": 7,
   "metadata": {},
   "outputs": [
    {
     "name": "stdout",
     "output_type": "stream",
     "text": [
      "Min temperuture =  0\n",
      "Max temperuture =  83\n",
      "Temperatures that are greater than 70ºC: [76, 80, 80, 83, 79]\n",
      "Mean temperature 58.8\n",
      "Updated list: [33, 66, 65, 62.0, 59, 60, 62, 64, 70, 76, 80, 69, 80, 83, 68, 79, 61, 53, 50, 49, 53, 48, 45, 39]\n",
      "Fahrenheit temperature: [91, 151, 149, 144, 138, 140, 144, 147, 158, 169, 176, 156, 176, 181, 154, 174, 142, 127, 122, 120, 127, 118, 113, 102]\n",
      "Danger: change the cooling system! (code problem #3)\n",
      "Avg temp: 65.08\n"
     ]
    }
   ],
   "source": [
    "import numpy as np\n",
    "\n",
    "temperatures_C = [33,66,65,0,59,60,62,64,70,76,80,69,80,83,68,79,61,53,50,49,53,48,45,39]\n",
    "min_temp = min(temperatures_C)\n",
    "max_temp = max(temperatures_C)\n",
    "hot_temp = []\n",
    "temperatures_F = []\n",
    "print('Min temperuture = ', min_temp)\n",
    "print('Max temperuture = ', max_temp)\n",
    "for i in temperatures_C:\n",
    "    if i > 70:\n",
    "        hot_temp.append(i)\n",
    "print('Temperatures that are greater than 70ºC:', hot_temp)\n",
    "mean_temp = round(np.mean(temperatures_C), 1)\n",
    "print('Mean temperature', mean_temp)\n",
    "temperatures_C[3] = (temperatures_C[4] + temperatures_C[2]) / 2\n",
    "print('Updated list:', temperatures_C)\n",
    "for i in temperatures_C:\n",
    "    i = round(1.8 * i + 32)\n",
    "    temperatures_F.append(i)\n",
    "print('Fahrenheit temperature:',  temperatures_F)\n",
    "\n",
    "count = 0\n",
    "avg = 0\n",
    "index = 0\n",
    "for i in temperatures_C:\n",
    "    if i >=70:\n",
    "        count += 1\n",
    "    else:\n",
    "        count = 0\n",
    "    if count >=4:\n",
    "        print('Danger: change the cooling system! (code problem #1)')\n",
    "        break\n",
    "    if i > 80:\n",
    "        print('Danger: change the cooling system! (code problem #2)' )\n",
    "        break\n",
    "    avg += i\n",
    "    index += 1\n",
    "    if (avg / index) > 65:\n",
    "        print('Danger: change the cooling system! (code problem #3)')\n",
    "        print('Avg temp:', round(avg / index, 2))\n",
    "        break"
   ]
  }
 ],
 "metadata": {
  "kernelspec": {
   "display_name": "Python 3",
   "language": "python",
   "name": "python3"
  },
  "language_info": {
   "codemirror_mode": {
    "name": "ipython",
    "version": 3
   },
   "file_extension": ".py",
   "mimetype": "text/x-python",
   "name": "python",
   "nbconvert_exporter": "python",
   "pygments_lexer": "ipython3",
   "version": "3.7.3"
  }
 },
 "nbformat": 4,
 "nbformat_minor": 2
}
